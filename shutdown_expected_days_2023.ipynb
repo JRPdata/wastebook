{
 "cells": [
  {
   "cell_type": "code",
   "execution_count": 1,
   "id": "365d354d",
   "metadata": {},
   "outputs": [],
   "source": [
    "import requests\n",
    "import json\n",
    "\n",
    "res = requests.get('https://manifold.markets/api/v0/slug/how-long-will-the-2023-us-governmen')\n"
   ]
  },
  {
   "cell_type": "code",
   "execution_count": 3,
   "id": "cb8d8488",
   "metadata": {},
   "outputs": [],
   "source": [
    "data = res.json()"
   ]
  },
  {
   "cell_type": "code",
   "execution_count": 8,
   "id": "750fd90c",
   "metadata": {},
   "outputs": [],
   "source": [
    "answers_by_str = {}\n",
    "for answer in data['answers']:\n",
    "    time_str = answer['text']\n",
    "    p = answer['probability']\n",
    "    answers_by_str[time_str] = p"
   ]
  },
  {
   "cell_type": "code",
   "execution_count": 10,
   "id": "682e86ca",
   "metadata": {},
   "outputs": [
    {
     "data": {
      "text/plain": [
       "{'No 2023 US Government Shutdown': 0.049213011022240453,\n",
       " '1 day': 0.04436141505992825,\n",
       " '2-6 days': 0.2730615073795969,\n",
       " '7-13 days': 0.23388961671563654,\n",
       " '14-20 days': 0.16661542665264023,\n",
       " '21-27 days': 0.09431680059615626,\n",
       " '28-34 days': 0.04800375032407277,\n",
       " '35-41 days': 0.06440672473568089,\n",
       " '42 days or longer': 0.026131747514048075}"
      ]
     },
     "execution_count": 10,
     "metadata": {},
     "output_type": "execute_result"
    }
   ],
   "source": [
    "answers_by_str"
   ]
  },
  {
   "cell_type": "code",
   "execution_count": 11,
   "id": "bb243603",
   "metadata": {},
   "outputs": [],
   "source": [
    "mapping_answers = {'No 2023 US Government Shutdown': 0,\n",
    " '1 day': 1,\n",
    " '2-6 days': 4,\n",
    " '7-13 days': 10,\n",
    " '14-20 days': 17,\n",
    " '21-27 days': 24,\n",
    " '28-34 days': 31,\n",
    " '35-41 days': 38,\n",
    " '42 days or longer': 45}\n",
    "\n",
    "answers_by_num_days = {}\n",
    "for [answer_str, answer_num_days] in mapping_answers.items():\n",
    "    answers_by_num_days[answer_num_days] = answers_by_str[answer_str]"
   ]
  },
  {
   "cell_type": "code",
   "execution_count": 17,
   "id": "61c02839",
   "metadata": {},
   "outputs": [
    {
     "name": "stdout",
     "output_type": "stream",
     "text": [
      "Using this markets probabilities and the average of the range for the each bin (taking 42 days+ bin as 45)\n",
      "Expected shutdown length: 13.7 days\n"
     ]
    }
   ],
   "source": [
    "expected_days = 0.0\n",
    "for [answer_num_days, p] in answers_by_num_days.items():\n",
    "    expected_days += (p * answer_num_days)\n",
    "\n",
    "print(\"Using this markets probabilities and the average of the range for the each bin (taking 42 days+ bin as 45)\")\n",
    "print(f\"Expected shutdown length: {expected_days:.1f} days\")"
   ]
  },
  {
   "cell_type": "code",
   "execution_count": null,
   "id": "2d334107",
   "metadata": {},
   "outputs": [],
   "source": []
  }
 ],
 "metadata": {
  "kernelspec": {
   "display_name": "Python 3 (ipykernel)",
   "language": "python",
   "name": "python3"
  },
  "language_info": {
   "codemirror_mode": {
    "name": "ipython",
    "version": 3
   },
   "file_extension": ".py",
   "mimetype": "text/x-python",
   "name": "python",
   "nbconvert_exporter": "python",
   "pygments_lexer": "ipython3",
   "version": "3.9.1"
  }
 },
 "nbformat": 4,
 "nbformat_minor": 5
}
